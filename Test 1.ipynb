{
 "cells": [
  {
   "cell_type": "markdown",
   "id": "2ce284aa",
   "metadata": {},
   "source": [
    "### Number Star Pattern"
   ]
  },
  {
   "cell_type": "code",
   "execution_count": null,
   "id": "82a7ed3b",
   "metadata": {},
   "outputs": [],
   "source": [
    "from os import *\n",
    "from sys import *\n",
    "from collections import *\n",
    "from math import *\n",
    "n = int(input())\n",
    "\n",
    "for i in range(n):\n",
    "    for j in range(n):\n",
    "        if j == n-i-1:\n",
    "            print(\"*\", end=\"\")\n",
    "        else:\n",
    "            print(n-j, end=\"\")\n",
    "    print()"
   ]
  },
  {
   "cell_type": "markdown",
   "id": "da05b5a0",
   "metadata": {},
   "source": [
    "### Yet another pattern"
   ]
  },
  {
   "cell_type": "code",
   "execution_count": 1,
   "id": "2548d5d1",
   "metadata": {},
   "outputs": [],
   "source": [
    "from os import *\n",
    "from sys import *\n",
    "from collections import *\n",
    "from math import *\n",
    "\n",
    "def ninjaPuzzle(n):\n",
    "    \n",
    "        for j in range (n):\n",
    "            temp=n-j\n",
    "            print(j*\" \",temp*\"*\",end=\"\",sep='')\n",
    "            print()\n",
    "\n",
    "\n",
    "# or other method\n",
    "\n",
    "\n",
    "def ninjapuzzel(n):\n",
    "    for i in range(n):\n",
    "        for j in range(n):\n",
    "            if j>=i:\n",
    "                print(\"*\",end=\"\",sep='')\n",
    "            else:\n",
    "                print(\" \",end=\"\",sep='')\n",
    "        print()\n",
    "                    \n",
    "            "
   ]
  },
  {
   "cell_type": "markdown",
   "id": "09b2b2e1",
   "metadata": {},
   "source": [
    "### Greatest common divisor"
   ]
  },
  {
   "cell_type": "code",
   "execution_count": null,
   "id": "a35d4110",
   "metadata": {},
   "outputs": [],
   "source": [
    "from os import *\n",
    "from sys import *\n",
    "from collections import *\n",
    "from math import *\n",
    "\n",
    "def findGcd(x, y):\n",
    "    if (y==0):\n",
    "        return x\n",
    "    \n",
    "    return findGcd(y, x % y)"
   ]
  }
 ],
 "metadata": {
  "kernelspec": {
   "display_name": "Python 3 (ipykernel)",
   "language": "python",
   "name": "python3"
  },
  "language_info": {
   "codemirror_mode": {
    "name": "ipython",
    "version": 3
   },
   "file_extension": ".py",
   "mimetype": "text/x-python",
   "name": "python",
   "nbconvert_exporter": "python",
   "pygments_lexer": "ipython3",
   "version": "3.10.9"
  }
 },
 "nbformat": 4,
 "nbformat_minor": 5
}
