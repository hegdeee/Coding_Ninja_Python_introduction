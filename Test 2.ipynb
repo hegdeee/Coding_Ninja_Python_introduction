{
 "cells": [
  {
   "cell_type": "markdown",
   "id": "1db75056",
   "metadata": {},
   "source": [
    "### Print 2D array"
   ]
  },
  {
   "cell_type": "code",
   "execution_count": null,
   "id": "731fddec",
   "metadata": {},
   "outputs": [],
   "source": [
    "from os import *\n",
    "from sys import *\n",
    "from collections import *\n",
    "from math import *\n",
    "\n",
    "# Reading input values\n",
    "\n",
    "\n",
    "n,m=map(int,input().split())\n",
    "for i in range(n):\n",
    "    a=list(map(int,input().split()))\n",
    "    for j in range(n-i):\n",
    "        print(*a)"
   ]
  },
  {
   "cell_type": "markdown",
   "id": "28ab39d4",
   "metadata": {},
   "source": [
    "### Minimum length word"
   ]
  },
  {
   "cell_type": "code",
   "execution_count": null,
   "id": "c59b1547",
   "metadata": {},
   "outputs": [],
   "source": [
    "def find_minimum_word(s):\n",
    "    words = s.split() \n",
    "    min_word = words[0] \n",
    "    for word in words:\n",
    "        if len(word) < len(min_word):\n",
    "            min_word = word\n",
    "    return min_word\n",
    "s=input()\n",
    "res=find_minimum_word(s)\n",
    "print(res)\n"
   ]
  },
  {
   "cell_type": "markdown",
   "id": "6a98ff58",
   "metadata": {},
   "source": [
    "### Leaders in array"
   ]
  },
  {
   "cell_type": "code",
   "execution_count": null,
   "id": "b4eed1da",
   "metadata": {},
   "outputs": [],
   "source": [
    "n = int(input())\n",
    "a= list(map(int, input().split()))\n",
    "\n",
    "max_so_far = a[-1]   \n",
    "leaders = [max_so_far]\n",
    "\n",
    "\n",
    "for i in range(n-2, -1, -1):\n",
    "    if a[i] >= max_so_far:\n",
    "        max_so_far = a[i]\n",
    "        leaders.append(max_so_far)\n",
    "\n",
    "\n",
    "print(*leaders[::-1])"
   ]
  }
 ],
 "metadata": {
  "kernelspec": {
   "display_name": "Python 3 (ipykernel)",
   "language": "python",
   "name": "python3"
  },
  "language_info": {
   "codemirror_mode": {
    "name": "ipython",
    "version": 3
   },
   "file_extension": ".py",
   "mimetype": "text/x-python",
   "name": "python",
   "nbconvert_exporter": "python",
   "pygments_lexer": "ipython3",
   "version": "3.10.9"
  }
 },
 "nbformat": 4,
 "nbformat_minor": 5
}
